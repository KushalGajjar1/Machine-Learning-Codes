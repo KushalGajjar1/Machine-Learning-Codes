{
 "cells": [
  {
   "cell_type": "code",
   "execution_count": 1,
   "id": "e8f7528d",
   "metadata": {},
   "outputs": [],
   "source": [
    "import numpy as np"
   ]
  },
  {
   "cell_type": "code",
   "execution_count": 2,
   "id": "166cd39a",
   "metadata": {},
   "outputs": [],
   "source": [
    "x_train = np.array([[0.5, 1.5], [1, 1], [1.5, 0.5], [3, 0.5], [2, 2], [1, 2.5]])\n",
    "y_train = np.array([0, 0, 0, 1, 1, 1])"
   ]
  },
  {
   "cell_type": "code",
   "execution_count": 3,
   "id": "2649f3a2",
   "metadata": {},
   "outputs": [],
   "source": [
    "def sigmoid(z):\n",
    "    \n",
    "    g = 1/(1+np.exp(-z))\n",
    "    \n",
    "    return g"
   ]
  },
  {
   "cell_type": "code",
   "execution_count": 4,
   "id": "bf7dcd0a",
   "metadata": {},
   "outputs": [],
   "source": [
    "def compute_cost(x_train, y_train, w, b):\n",
    "    \n",
    "    m = x_train.shape[0]\n",
    "    cost = 0.0\n",
    "    \n",
    "    for i in range (m):\n",
    "        z = np.dot(x_train[i], w) + b\n",
    "        g = sigmoid(z)\n",
    "        cost = cost + (-y_train[i]*np.log(g) - (1-y_train[i])*np.log(1-g))\n",
    "        \n",
    "    cost = cost/m\n",
    "    return cost"
   ]
  },
  {
   "cell_type": "code",
   "execution_count": 5,
   "id": "b568f6cc",
   "metadata": {},
   "outputs": [],
   "source": [
    "def compute_gradient(x_train, y_train, w, b):\n",
    "    \n",
    "    m, n = x_train.shape\n",
    "    dj_dw = np.zeros((n, ))\n",
    "    dj_db = 0.0\n",
    "    \n",
    "    for i in range (m):\n",
    "        z = np.dot(x_train[i], w) + b\n",
    "        err = sigmoid(z) - y_train[i]\n",
    "        for j in range (n):\n",
    "            dj_dw[j] = dj_dw[j] + err * x_train[i, j]\n",
    "        dj_db = dj_db + err\n",
    "    dj_dw = dj_dw/m\n",
    "    dj_db = dj_db/m\n",
    "    \n",
    "    return dj_dw, dj_db"
   ]
  },
  {
   "cell_type": "code",
   "execution_count": 6,
   "id": "ca822418",
   "metadata": {},
   "outputs": [],
   "source": [
    "def gradient_descent(x_train, y_train, w_init, b_init, alpha, iterations):\n",
    "    \n",
    "    J_history = []\n",
    "    w = w_init\n",
    "    b = b_init\n",
    "    \n",
    "    for i in range (iterations):\n",
    "        \n",
    "        dj_dw, dj_db = compute_gradient(x_train, y_train, w, b)\n",
    "        \n",
    "        w = w - alpha * dj_dw\n",
    "        b = b - alpha * dj_db\n",
    "        \n",
    "        J_history.append(compute_cost(x_train, y_train, w, b))\n",
    "        \n",
    "    return w, b"
   ]
  },
  {
   "cell_type": "code",
   "execution_count": 7,
   "id": "d6f7fdde",
   "metadata": {},
   "outputs": [],
   "source": [
    "w_init = np.zeros_like(x_train[0])\n",
    "b_init = 0.0\n",
    "alpha = 0.1\n",
    "iterations = 10000\n",
    "\n",
    "w_init, b_init = gradient_descent(x_train, y_train, w_init, b_init, alpha, iterations)"
   ]
  },
  {
   "cell_type": "code",
   "execution_count": 8,
   "id": "b57c6aaa",
   "metadata": {},
   "outputs": [
    {
     "data": {
      "text/plain": [
       "(array([5.28123029, 5.07815608]), -14.222409982019837)"
      ]
     },
     "execution_count": 8,
     "metadata": {},
     "output_type": "execute_result"
    }
   ],
   "source": [
    "w_init, b_init"
   ]
  },
  {
   "cell_type": "code",
   "execution_count": null,
   "id": "5e65e132",
   "metadata": {},
   "outputs": [],
   "source": []
  }
 ],
 "metadata": {
  "kernelspec": {
   "display_name": "Python 3 (ipykernel)",
   "language": "python",
   "name": "python3"
  },
  "language_info": {
   "codemirror_mode": {
    "name": "ipython",
    "version": 3
   },
   "file_extension": ".py",
   "mimetype": "text/x-python",
   "name": "python",
   "nbconvert_exporter": "python",
   "pygments_lexer": "ipython3",
   "version": "3.10.6"
  }
 },
 "nbformat": 4,
 "nbformat_minor": 5
}
