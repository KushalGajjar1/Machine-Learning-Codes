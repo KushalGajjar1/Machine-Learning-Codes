{
 "cells": [
  {
   "cell_type": "code",
   "execution_count": 21,
   "id": "c2051f16",
   "metadata": {},
   "outputs": [],
   "source": [
    "import numpy as np\n",
    "import pandas as pd"
   ]
  },
  {
   "cell_type": "code",
   "execution_count": 22,
   "id": "55ccb5e0",
   "metadata": {},
   "outputs": [],
   "source": [
    "data = pd.read_csv(r'./data.txt', header = None)"
   ]
  },
  {
   "cell_type": "code",
   "execution_count": 23,
   "id": "3921309f",
   "metadata": {},
   "outputs": [],
   "source": [
    "final_data = data.to_numpy()\n",
    "x_train = final_data[:, 0:2]\n",
    "y_train = final_data[:, 2]"
   ]
  },
  {
   "cell_type": "code",
   "execution_count": 24,
   "id": "88612ed8",
   "metadata": {},
   "outputs": [],
   "source": [
    "def sigmoid(z):\n",
    "    \n",
    "    g = 1/(1 + np.exp(-z))\n",
    "    \n",
    "    return g"
   ]
  },
  {
   "cell_type": "code",
   "execution_count": 25,
   "id": "da20af32",
   "metadata": {},
   "outputs": [],
   "source": [
    "def compute_cost(x_train, y_train, w, b, lambda_init):\n",
    "    \n",
    "    m, n = x_train.shape\n",
    "    cost = 0.0\n",
    "    \n",
    "    for i in range (m):\n",
    "        z = np.dot(x_train[i], w) + b\n",
    "        f = sigmoid(z)\n",
    "        cost = cost - y_train[i]*np.log(f) - (1 - y_train[i])*np.log(1-f)\n",
    "    cost = cost/m\n",
    "    \n",
    "    reg_cost = 0.0\n",
    "    for i in range (n):\n",
    "        reg_cost = reg_cost + w[i]**2\n",
    "    reg_cost = (lambda_init/(2*m))*reg_cost\n",
    "    \n",
    "    total_cost = cost + reg_cost\n",
    "    \n",
    "    return total_cost"
   ]
  },
  {
   "cell_type": "code",
   "execution_count": 26,
   "id": "26627cd6",
   "metadata": {},
   "outputs": [],
   "source": [
    "def compute_gradient(x_train, y_train, w, b, lambda_init):\n",
    "    \n",
    "    m, n = x_train.shape\n",
    "    dj_dw = np.zeros((n, ))\n",
    "    dj_db = 0.0\n",
    "    \n",
    "    for i in range (m):\n",
    "        z = np.dot(x_train[i], w) + b\n",
    "        f = sigmoid(z)\n",
    "        err = f - y_train[i]\n",
    "        for j in range (n):\n",
    "            dj_dw[j] = dj_dw[j] + err * x_train[i, j]\n",
    "        dj_db = dj_db + err\n",
    "    dj_dw = dj_dw/m\n",
    "    dj_db = dj_db/m\n",
    "    \n",
    "    for i in range (n):\n",
    "        dj_dw[i] = dj_dw[i] + (lambda_init/m)*w[i]\n",
    "    \n",
    "    return dj_dw, dj_db"
   ]
  },
  {
   "cell_type": "code",
   "execution_count": 27,
   "id": "f0b1984b",
   "metadata": {},
   "outputs": [],
   "source": [
    "def gradient_descent(x_train, y_train, w, b, iterations, alpha):\n",
    "    \n",
    "    m = len(x_train)\n",
    "    \n",
    "    J_history = []\n",
    "    \n",
    "    for i in range (iterations):\n",
    "        dj_dw, dj_db = compute_gradient(x_train, y_train, w, b, 0)\n",
    "        \n",
    "        w = w - alpha * dj_dw\n",
    "        b = b - alpha * dj_db\n",
    "        \n",
    "        J_history.append(compute_cost(x_train, y_train, w, b, 0))\n",
    "        \n",
    "    return w, b, J_history"
   ]
  },
  {
   "cell_type": "code",
   "execution_count": 28,
   "id": "b3d65688",
   "metadata": {},
   "outputs": [],
   "source": [
    "w_init = np.array([0., 0.])\n",
    "b_init = -8\n",
    "\n",
    "iterations = 10000\n",
    "alpha = 0.001\n",
    "\n",
    "w, b, J_history = gradient_descent(x_train, y_train, w_init, b_init, iterations, alpha)"
   ]
  },
  {
   "cell_type": "code",
   "execution_count": 9,
   "id": "2e48e0d6",
   "metadata": {},
   "outputs": [
    {
     "data": {
      "text/plain": [
       "(array([0.07125349, 0.06482881]), -8.188614567810179)"
      ]
     },
     "execution_count": 9,
     "metadata": {},
     "output_type": "execute_result"
    }
   ],
   "source": [
    "w, b"
   ]
  },
  {
   "cell_type": "code",
   "execution_count": null,
   "id": "956712c6",
   "metadata": {},
   "outputs": [],
   "source": []
  }
 ],
 "metadata": {
  "kernelspec": {
   "display_name": "Python 3 (ipykernel)",
   "language": "python",
   "name": "python3"
  },
  "language_info": {
   "codemirror_mode": {
    "name": "ipython",
    "version": 3
   },
   "file_extension": ".py",
   "mimetype": "text/x-python",
   "name": "python",
   "nbconvert_exporter": "python",
   "pygments_lexer": "ipython3",
   "version": "3.10.6"
  }
 },
 "nbformat": 4,
 "nbformat_minor": 5
}
