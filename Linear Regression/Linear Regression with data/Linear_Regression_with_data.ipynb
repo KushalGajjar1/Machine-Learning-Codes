{
 "cells": [
  {
   "cell_type": "code",
   "execution_count": 1,
   "id": "a1704ba7",
   "metadata": {},
   "outputs": [],
   "source": [
    "import numpy as np\n",
    "import pandas as pd"
   ]
  },
  {
   "cell_type": "code",
   "execution_count": 2,
   "id": "09ad2b6e",
   "metadata": {},
   "outputs": [],
   "source": [
    "data = pd.read_csv(r'./data.txt', header = None)"
   ]
  },
  {
   "cell_type": "code",
   "execution_count": 3,
   "id": "cb756ba7",
   "metadata": {},
   "outputs": [],
   "source": [
    "final_data = data.to_numpy()\n",
    "x_train = final_data[:, 0]\n",
    "y_train = final_data[:, 1]"
   ]
  },
  {
   "cell_type": "code",
   "execution_count": 4,
   "id": "4983f356",
   "metadata": {},
   "outputs": [],
   "source": [
    "def compute_cost(x_train, y_train, w, b, lambda_init):\n",
    "    \n",
    "    m = x_train.shape[0]\n",
    "    cost = 0.0\n",
    "    \n",
    "    for i in range (m):\n",
    "        cost = cost + ((np.dot(x_train[i], w) + b) - y_train[i])**2\n",
    "    cost = cost/(2*m)\n",
    "    \n",
    "    reg_cost = 0\n",
    "    reg_cost = (lambda_init/(2*m)) * (w**2)\n",
    "    \n",
    "    total_cost = cost + reg_cost\n",
    "    \n",
    "    return total_cost"
   ]
  },
  {
   "cell_type": "code",
   "execution_count": 5,
   "id": "80c88bad",
   "metadata": {},
   "outputs": [],
   "source": [
    "def compute_gradient(x_train, y_train, w, b, lambda_init):\n",
    "    \n",
    "    m = x_train.shape[0]\n",
    "    dj_dw = 0\n",
    "    dj_db = 0\n",
    "    \n",
    "    for i in range (m):\n",
    "        dj_dw_i = ((w * x_train[i] + b) - y_train[i]) * x_train[i]\n",
    "        dj_db_i = (w * x_train[i] + b) - y_train[i]\n",
    "        dj_dw = dj_dw + dj_dw_i\n",
    "        dj_db = dj_db + dj_db_i\n",
    "        \n",
    "    dj_dw = dj_dw/m\n",
    "    dj_db = dj_db/m\n",
    "    \n",
    "    dj_dw += (lambda_init/m)*w\n",
    "    \n",
    "    return dj_dw, dj_db"
   ]
  },
  {
   "cell_type": "code",
   "execution_count": 6,
   "id": "ecc05a79",
   "metadata": {},
   "outputs": [],
   "source": [
    "def gradient_descent(x_train, y_train, w_init, b_init, iterations, alpha):\n",
    "    \n",
    "    J_hist = []\n",
    "    w = w_init\n",
    "    b = b_init\n",
    "    \n",
    "    for i in range (iterations):\n",
    "        \n",
    "        dj_dw, dj_db = compute_gradient(x_train, y_train, w, b, 0)\n",
    "        \n",
    "        w = w - alpha * dj_dw\n",
    "        b = b - alpha * dj_db\n",
    "        \n",
    "        J_hist.append(compute_cost(x_train, y_train, w, b, 0))\n",
    "    \n",
    "    return w, b, J_hist"
   ]
  },
  {
   "cell_type": "code",
   "execution_count": 7,
   "id": "39013452",
   "metadata": {},
   "outputs": [],
   "source": [
    "w_init = 0.0\n",
    "b_init = 0.0\n",
    "iterations = 1500\n",
    "alpha = 0.01\n",
    "\n",
    "w, b, J_hist = gradient_descent(x_train, y_train, w_init, b_init, iterations, alpha)"
   ]
  },
  {
   "cell_type": "code",
   "execution_count": 8,
   "id": "971949fb",
   "metadata": {},
   "outputs": [
    {
     "data": {
      "text/plain": [
       "(1.166362350335582, -3.63029143940436)"
      ]
     },
     "execution_count": 8,
     "metadata": {},
     "output_type": "execute_result"
    }
   ],
   "source": [
    "w, b"
   ]
  },
  {
   "cell_type": "code",
   "execution_count": null,
   "id": "08f6fd11",
   "metadata": {},
   "outputs": [],
   "source": []
  }
 ],
 "metadata": {
  "kernelspec": {
   "display_name": "Python 3 (ipykernel)",
   "language": "python",
   "name": "python3"
  },
  "language_info": {
   "codemirror_mode": {
    "name": "ipython",
    "version": 3
   },
   "file_extension": ".py",
   "mimetype": "text/x-python",
   "name": "python",
   "nbconvert_exporter": "python",
   "pygments_lexer": "ipython3",
   "version": "3.10.6"
  }
 },
 "nbformat": 4,
 "nbformat_minor": 5
}
