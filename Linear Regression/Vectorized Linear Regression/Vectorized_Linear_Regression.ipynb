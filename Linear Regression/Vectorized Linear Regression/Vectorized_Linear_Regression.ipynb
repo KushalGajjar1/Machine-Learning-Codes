{
 "cells": [
  {
   "cell_type": "code",
   "execution_count": 1,
   "id": "8d0b94ee",
   "metadata": {},
   "outputs": [],
   "source": [
    "import numpy as np"
   ]
  },
  {
   "cell_type": "code",
   "execution_count": 2,
   "id": "9ab6005a",
   "metadata": {},
   "outputs": [],
   "source": [
    "x_train = np.array([[2104, 5, 1, 45], [1416, 3, 2, 40], [852, 2, 1, 35]])\n",
    "y_train = np.array([460, 232, 178])"
   ]
  },
  {
   "cell_type": "code",
   "execution_count": 3,
   "id": "597280e1",
   "metadata": {},
   "outputs": [],
   "source": [
    "b_init = 785.1811367994083\n",
    "w_init = np.array([ 0.39133535, 18.75376741, -53.36032453, -26.42131618])"
   ]
  },
  {
   "cell_type": "code",
   "execution_count": 4,
   "id": "38f0eff3",
   "metadata": {},
   "outputs": [],
   "source": [
    "def compute_cost(x_train, y_train, w, b):\n",
    "    \n",
    "    m = x_train.shape[0]\n",
    "    cost = 0.0\n",
    "    \n",
    "    for i in range (m):\n",
    "        cost = cost + ((np.dot(x_train[i], w) + b) - y_train[i])**2\n",
    "    cost = cost/(2*m)\n",
    "    \n",
    "    return cost"
   ]
  },
  {
   "cell_type": "code",
   "execution_count": 5,
   "id": "bd40993a",
   "metadata": {},
   "outputs": [],
   "source": [
    "def compute_gradient(x_train, y_train, w, b):\n",
    "    \n",
    "    m, n = x_train.shape\n",
    "    dj_dw = np.zeros((n,))\n",
    "    dj_db = 0.0\n",
    "    \n",
    "    for i in range (m):\n",
    "        err = (np.dot(x_train[i], w) + b) - y_train[i]\n",
    "        for j in range (n):\n",
    "            dj_dw[j] = dj_dw[j] + err * x_train[i, j]\n",
    "        dj_dw = dj_dw + err\n",
    "        \n",
    "    dj_dw = dj_dw/m\n",
    "    dj_db = dj_db/m\n",
    "    \n",
    "    return dj_dw, dj_db"
   ]
  },
  {
   "cell_type": "code",
   "execution_count": 6,
   "id": "3bab209e",
   "metadata": {},
   "outputs": [],
   "source": [
    "def gradient_descent(x_train, y_train, init_w, init_b, iterations, alpha):\n",
    "    \n",
    "    J_hist = []\n",
    "    w = init_w\n",
    "    b = init_b\n",
    "    \n",
    "    for i in range (iterations):\n",
    "        dj_dw, dj_db = compute_gradient(x_train, y_train, w, b)\n",
    "        \n",
    "        w = w - alpha * dj_dw\n",
    "        b = b - alpha * dj_db\n",
    "        \n",
    "        J_hist.append(compute_cost(x_train, y_train, w, b))\n",
    "        \n",
    "    return w, b, J_hist"
   ]
  },
  {
   "cell_type": "code",
   "execution_count": 7,
   "id": "11ff31cd",
   "metadata": {},
   "outputs": [],
   "source": [
    "init_w = np.zeros_like(w_init)\n",
    "init_b = 0.0\n",
    "iterations = 1000\n",
    "alpha = 5.0e-7\n",
    "\n",
    "w_final, b_final, J_hist = gradient_descent(x_train, y_train, init_w, init_b, iterations, alpha)"
   ]
  },
  {
   "cell_type": "code",
   "execution_count": 8,
   "id": "69ff30ae",
   "metadata": {},
   "outputs": [
    {
     "data": {
      "text/plain": [
       "(array([ 0.20402315,  0.00152171, -0.01347686, -0.0679902 ]), 0.0)"
      ]
     },
     "execution_count": 8,
     "metadata": {},
     "output_type": "execute_result"
    }
   ],
   "source": [
    "w_final, b_final"
   ]
  },
  {
   "cell_type": "code",
   "execution_count": null,
   "id": "e3b83633",
   "metadata": {},
   "outputs": [],
   "source": []
  }
 ],
 "metadata": {
  "kernelspec": {
   "display_name": "Python 3 (ipykernel)",
   "language": "python",
   "name": "python3"
  },
  "language_info": {
   "codemirror_mode": {
    "name": "ipython",
    "version": 3
   },
   "file_extension": ".py",
   "mimetype": "text/x-python",
   "name": "python",
   "nbconvert_exporter": "python",
   "pygments_lexer": "ipython3",
   "version": "3.10.6"
  }
 },
 "nbformat": 4,
 "nbformat_minor": 5
}
